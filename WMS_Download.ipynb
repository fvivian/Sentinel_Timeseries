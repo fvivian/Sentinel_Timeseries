{
 "cells": [
  {
   "cell_type": "markdown",
   "metadata": {},
   "source": [
    "# Downloading data cubes from the Web Map Service"
   ]
  },
  {
   "cell_type": "markdown",
   "metadata": {},
   "source": [
    "With the help of requests this script allows the user to download whole timeseries of data (Sentinel 1, 2 and 3) for a certain longitude/latitude combination."
   ]
  },
  {
   "cell_type": "code",
   "execution_count": null,
   "metadata": {
    "collapsed": true
   },
   "outputs": [],
   "source": [
    "import requests\n",
    "import json\n",
    "from PIL import Image\n",
    "import io\n",
    "import numpy as np\n",
    "from urllib.parse import urlsplit, parse_qs\n",
    "from time import time\n",
    "from pyproj import Proj, transform"
   ]
  },
  {
   "cell_type": "markdown",
   "metadata": {},
   "source": [
    "First, the user has to specify the desired lon/lat as well as number of pixels per dimension and the resolution of the image."
   ]
  },
  {
   "cell_type": "code",
   "execution_count": null,
   "metadata": {
    "collapsed": true
   },
   "outputs": [],
   "source": [
    "# specify central lon/lat of the image as well as dimension\n",
    "lon = 23.32\n",
    "lat = 24.16\n",
    "xdim = 1920 # number of pixels per dimension\n",
    "ydim = 1080 \n",
    "reso = 20 # meters"
   ]
  },
  {
   "cell_type": "markdown",
   "metadata": {},
   "source": [
    "Following now are some cells to specify different parameters, such as Satellite of interest, layer (e.g. true color, NDVI etc.) and maximum cloud cover (called maxcc, if commented out, the max cloud cover will be ignored in the request). The data will be downloaded from the WMS from Sinergise. The data is stored on the Earth Observation Innovative Platform Testbed Poland (EO IPT Poland, www.cloudferro.com/en/eocloud/). The WMS instance has to be configurated (i.e. the user's ID is requested) by the user beforehand for which an account is required (www.sinergise.com)."
   ]
  },
  {
   "cell_type": "code",
   "execution_count": null,
   "metadata": {
    "collapsed": true
   },
   "outputs": [],
   "source": [
    "inProj = Proj(init='epsg:4326')\n",
    "outProj = Proj(init='epsg:3857')\n",
    "xC,yC = transform(inProj,outProj, lon, lat)\n",
    "xmin = xC - xdim*reso/2\n",
    "xmax = xC + xdim*reso/2\n",
    "ymin = yC - ydim*reso/2\n",
    "ymax = yC + ydim*reso/2\n",
    "\n",
    "ID = 'your ID'\n",
    "URL = 'http://services.sentinel-hub.com/ogc/wms/'+ID\n",
    "\n",
    "params = {'service': 'WMS',\n",
    "          'request': 'GetMap',\n",
    "          'layers': 'AGRICULTURE',\n",
    "          'styles': '',\n",
    "          'format': 'image/png',\n",
    "          'transparent': 'false',\n",
    "          'version': '1.1.1',\n",
    "          'showlogo': 'false',\n",
    "          'height': ydim,\n",
    "          'width': xdim,\n",
    "          'maxcc': 10,\n",
    "          #'time': '2017-10-12',\n",
    "          'srs': 'EPSG%3A3857', \n",
    "          'bbox': f'{xmin}, {ymin}, {xmax}, {ymax}'\n",
    "         }"
   ]
  },
  {
   "cell_type": "markdown",
   "metadata": {},
   "source": [
    "check if the covered area or the chosen layer etc. are satisfactory"
   ]
  },
  {
   "cell_type": "code",
   "execution_count": null,
   "metadata": {
    "scrolled": false
   },
   "outputs": [],
   "source": [
    "r = requests.get(URL, {**params})\n",
    "imgTiff = None\n",
    "try:\n",
    "    imgTiff = Image.open(io.BytesIO(r.content))\n",
    "except:\n",
    "    print(r.url)\n",
    "imgTiff"
   ]
  },
  {
   "cell_type": "markdown",
   "metadata": {},
   "source": [
    "with the EO Data Finder check for available dates. Parameters such as 'processingLevel' depend on the chosen satellite and can be looked up here: https://finder.eocloud.eu/www/"
   ]
  },
  {
   "cell_type": "code",
   "execution_count": null,
   "metadata": {
    "collapsed": true
   },
   "outputs": [],
   "source": [
    "EOCURL = 'https://finder.eocloud.eu/resto/api/collections/Sentinel2/search.json'\n",
    "params_eocurl = {'dataset': 'ESA-DATASET',\n",
    "                 'lat': str(lat),\n",
    "                 'lon': str(lon),\n",
    "                 'maxRecords': 1000,\n",
    "                 #'processingLevel': 'LEVEL1B',\n",
    "                 #'cloudCover': '[0,20]',\n",
    "                 'sortOrder': 'descending',\n",
    "                 'sortParam': 'startDate'\n",
    "                }"
   ]
  },
  {
   "cell_type": "code",
   "execution_count": null,
   "metadata": {},
   "outputs": [],
   "source": [
    "r1 = requests.get(EOCURL, params_eocurl)\n",
    "#print(r1.url)\n",
    "js = json.loads(r1.content)\n",
    "try:\n",
    "    num_features = len(js['features'])\n",
    "    print(f'# products: {num_features}')\n",
    "except:\n",
    "    print(r1.url)\n",
    "    print('Cannot read response')"
   ]
  },
  {
   "cell_type": "code",
   "execution_count": null,
   "metadata": {
    "collapsed": true
   },
   "outputs": [],
   "source": [
    "products = []\n",
    "dummy = None\n",
    "for j in js['features']:\n",
    "    day = j['properties']['startDate'].split('T')[0]\n",
    "    products.append((day, j))"
   ]
  },
  {
   "cell_type": "markdown",
   "metadata": {},
   "source": [
    "the actual download:"
   ]
  },
  {
   "cell_type": "code",
   "execution_count": null,
   "metadata": {
    "scrolled": true
   },
   "outputs": [],
   "source": [
    "res = []\n",
    "starttime = time()\n",
    "fail = 0\n",
    "for i, (day, j) in enumerate(products):\n",
    "    print(f'{i}/{len(products)} loading', end='\\r')\n",
    "    r = requests.get(URL, {**params, **{'time': f'{day}/{day}'}})\n",
    "\n",
    "    try:\n",
    "        res.append((day, np.array(Image.open(io.BytesIO(r.content)))))\n",
    "        print(f'{i}/{len(products)} success')\n",
    "    except Exception as e:\n",
    "        print(f'{i}/{len(products)} failure')\n",
    "        fail += fail\n",
    "        \n",
    "        #print(r.url)\n",
    "endtime = time()\n",
    "duration = (endtime - starttime)/60\n",
    "print(f'{duration} minutes,', f'{fail} failed')"
   ]
  },
  {
   "cell_type": "markdown",
   "metadata": {},
   "source": [
    "# saving section\n",
    "\n",
    "used to save all the downloaded data for further use. The file's default name (may be changed) consists of 4 things: Name (has to be given by the user, e.g. name of the scene), layer, lon and lat."
   ]
  },
  {
   "cell_type": "code",
   "execution_count": null,
   "metadata": {
    "collapsed": true
   },
   "outputs": [],
   "source": [
    "ts1 = []\n",
    "if lon <= 0:\n",
    "    lonS = str(lon+360)+'E'\n",
    "else:\n",
    "    lonS = str(lon)+'E'\n",
    "if lat <= 0:\n",
    "    latS = str(-lat)+'S'\n",
    "else:\n",
    "    latS = str(lat)+'N'\n",
    "    \n",
    "for i in range(len(res)):\n",
    "    ts1.append(res[i][1])\n",
    "layer = params['layers']\n",
    "name = 'S2_ALJAWF'\n",
    "np.save(f'Data/{name}_{layer}_{lonS}_{latS}', np.array(ts1))"
   ]
  },
  {
   "cell_type": "code",
   "execution_count": null,
   "metadata": {
    "collapsed": true
   },
   "outputs": [],
   "source": [
    "ts2 = []\n",
    "for i in range(len(res)):\n",
    "    ts2.append(res[i][0])\n",
    "np.save(f'Data/{name}_{layer}_{lonS}_{latS}_days', np.array(ts2))"
   ]
  },
  {
   "cell_type": "code",
   "execution_count": null,
   "metadata": {
    "collapsed": true
   },
   "outputs": [],
   "source": []
  }
 ],
 "metadata": {
  "kernelspec": {
   "display_name": "Python 3",
   "language": "python",
   "name": "python3"
  },
  "language_info": {
   "codemirror_mode": {
    "name": "ipython",
    "version": 3
   },
   "file_extension": ".py",
   "mimetype": "text/x-python",
   "name": "python",
   "nbconvert_exporter": "python",
   "pygments_lexer": "ipython3",
   "version": "3.6.3"
  }
 },
 "nbformat": 4,
 "nbformat_minor": 2
}
